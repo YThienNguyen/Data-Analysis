{
 "cells": [
  {
   "cell_type": "code",
   "execution_count": 1,
   "id": "9c19faac",
   "metadata": {},
   "outputs": [],
   "source": [
    "import sqlite3"
   ]
  },
  {
   "cell_type": "code",
   "execution_count": 3,
   "id": "eee8a0ca",
   "metadata": {
    "scrolled": true
   },
   "outputs": [
    {
     "name": "stdout",
     "output_type": "stream",
     "text": [
      "(1, 'Michael', 101, '2005-02-10', 'Pediatric', '10', 900000.0)\n",
      "(2, 'Linda', 101, '2007-08-08', 'Gyane', '5', 850000.0)\n",
      "(3, 'William', 102, '2004-09-11', 'Cardialogist', '11', 1000000.0)\n",
      "(4, 'Richard', 101, '2011-09-05', 'Pediatric', '12', 950000.0)\n",
      "(5, 'Karen', 103, '2020-09-05', 'Oncologist', '15', 1100000.0)\n",
      "(6, 'Robert', 104, '1998-09-04', 'Gyane', '14', 940000.0)\n",
      "(7, 'Susan', 105, '1994-06-05', 'Oncologist', '11', 870000.0)\n",
      "(8, 'Nancy', 106, '1994-06-05', 'Cardialogist', '14', 870000.0)\n",
      "(9, 'Nick', 107, '2019-06-05', 'Cardialogist', '9', 770000.0)\n"
     ]
    }
   ],
   "source": [
    "# Create a SQL connection to our SQLite database\n",
    "con = sqlite3.connect(\"Hospitalinfo.db\")\n",
    "cur = con.cursor()\n",
    "# The result of a \"cursor.execute\" can be iterated over by row\n",
    "for row in cur.execute('SELECT * FROM Doctor;'):\n",
    "    print(row)\n",
    "# Be sure to close the connection\n",
    "con.close()"
   ]
  },
  {
   "cell_type": "code",
   "execution_count": null,
   "id": "81a99126",
   "metadata": {},
   "outputs": [],
   "source": []
  },
  {
   "cell_type": "raw",
   "id": "084028f7",
   "metadata": {},
   "source": []
  },
  {
   "cell_type": "code",
   "execution_count": null,
   "id": "5c622230",
   "metadata": {},
   "outputs": [],
   "source": []
  },
  {
   "cell_type": "code",
   "execution_count": null,
   "id": "87cfef79",
   "metadata": {},
   "outputs": [],
   "source": []
  },
  {
   "cell_type": "code",
   "execution_count": null,
   "id": "ec40ce3c",
   "metadata": {},
   "outputs": [],
   "source": []
  }
 ],
 "metadata": {
  "kernelspec": {
   "display_name": "Python 3 (ipykernel)",
   "language": "python",
   "name": "python3"
  },
  "language_info": {
   "codemirror_mode": {
    "name": "ipython",
    "version": 3
   },
   "file_extension": ".py",
   "mimetype": "text/x-python",
   "name": "python",
   "nbconvert_exporter": "python",
   "pygments_lexer": "ipython3",
   "version": "3.9.7"
  }
 },
 "nbformat": 4,
 "nbformat_minor": 5
}
