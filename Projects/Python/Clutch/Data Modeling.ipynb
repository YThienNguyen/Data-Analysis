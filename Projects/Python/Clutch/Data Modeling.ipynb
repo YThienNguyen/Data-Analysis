{
 "cells": [
  {
   "cell_type": "code",
   "execution_count": 1,
   "metadata": {},
   "outputs": [],
   "source": [
    "import pandas as pd\n",
    "\n",
    "import numpy as np\n",
    "\n",
    "from scipy import stats\n",
    "\n",
    "import sklearn\n",
    "\n",
    "import matplotlib.pyplot as plt\n",
    "\n",
    "from sklearn.model_selection import train_test_split\n",
    "\n",
    "from sklearn.feature_selection import VarianceThreshold\n",
    "\n",
    "from sklearn.preprocessing import StandardScaler, LabelBinarizer\n",
    "\n",
    "from sklearn_pandas import DataFrameMapper\n",
    "\n",
    "from sklearn_pandas import gen_features\n",
    "\n",
    "from sklearn.metrics import mean_squared_error\n",
    "\n",
    "from sklearn.metrics import r2_score\n",
    "\n",
    "from statsmodels.stats.outliers_influence import variance_inflation_factor\n",
    "\n",
    "from sklearn.feature_selection import SelectFromModel\n",
    "\n",
    "from sklearn.ensemble import RandomForestRegressor\n",
    "\n",
    "from sklearn.linear_model import Lasso, LassoCV\n",
    "\n",
    "from sklearn.linear_model import Ridge, RidgeCV\n",
    "\n",
    "from sklearn.linear_model import ElasticNet, ElasticNetCV\n",
    "\n",
    "from sklearn.linear_model import LinearRegression\n",
    "\n",
    "from sklearn.model_selection import cross_val_score\n",
    "\n",
    "from sklearn import metrics\n",
    "\n",
    "import warnings\n",
    "\n",
    "warnings.filterwarnings(\"ignore\")"
   ]
  },
  {
   "cell_type": "markdown",
   "metadata": {},
   "source": [
    "#### Loading the dataset"
   ]
  },
  {
   "cell_type": "code",
   "execution_count": 2,
   "metadata": {},
   "outputs": [
    {
     "data": {
      "text/html": [
       "<div>\n",
       "<style scoped>\n",
       "    .dataframe tbody tr th:only-of-type {\n",
       "        vertical-align: middle;\n",
       "    }\n",
       "\n",
       "    .dataframe tbody tr th {\n",
       "        vertical-align: top;\n",
       "    }\n",
       "\n",
       "    .dataframe thead th {\n",
       "        text-align: right;\n",
       "    }\n",
       "</style>\n",
       "<table border=\"1\" class=\"dataframe\">\n",
       "  <thead>\n",
       "    <tr style=\"text-align: right;\">\n",
       "      <th></th>\n",
       "      <th>make</th>\n",
       "      <th>mileage</th>\n",
       "      <th>price</th>\n",
       "      <th>body_type</th>\n",
       "      <th>drivetrain</th>\n",
       "      <th>transmission</th>\n",
       "      <th>fuel_type</th>\n",
       "      <th>passengers</th>\n",
       "      <th>is_private</th>\n",
       "      <th>car_age</th>\n",
       "    </tr>\n",
       "  </thead>\n",
       "  <tbody>\n",
       "    <tr>\n",
       "      <th>0</th>\n",
       "      <td>PONTIAC</td>\n",
       "      <td>166014.0</td>\n",
       "      <td>8.006368</td>\n",
       "      <td>SEDAN</td>\n",
       "      <td>FWD</td>\n",
       "      <td>Automatic</td>\n",
       "      <td>Gas</td>\n",
       "      <td>5.0</td>\n",
       "      <td>1</td>\n",
       "      <td>15</td>\n",
       "    </tr>\n",
       "    <tr>\n",
       "      <th>1</th>\n",
       "      <td>ACURA</td>\n",
       "      <td>97902.0</td>\n",
       "      <td>10.126191</td>\n",
       "      <td>SUV</td>\n",
       "      <td>AWD</td>\n",
       "      <td>Automatic</td>\n",
       "      <td>Premium Unleaded</td>\n",
       "      <td>7.0</td>\n",
       "      <td>0</td>\n",
       "      <td>6</td>\n",
       "    </tr>\n",
       "    <tr>\n",
       "      <th>2</th>\n",
       "      <td>INFINITI</td>\n",
       "      <td>108000.0</td>\n",
       "      <td>8.764053</td>\n",
       "      <td>SEDAN</td>\n",
       "      <td>AWD</td>\n",
       "      <td>Automatic</td>\n",
       "      <td>Gas</td>\n",
       "      <td>5.0</td>\n",
       "      <td>1</td>\n",
       "      <td>17</td>\n",
       "    </tr>\n",
       "  </tbody>\n",
       "</table>\n",
       "</div>"
      ],
      "text/plain": [
       "       make   mileage      price body_type drivetrain transmission  \\\n",
       "0   PONTIAC  166014.0   8.006368     SEDAN        FWD    Automatic   \n",
       "1     ACURA   97902.0  10.126191       SUV        AWD    Automatic   \n",
       "2  INFINITI  108000.0   8.764053     SEDAN        AWD    Automatic   \n",
       "\n",
       "          fuel_type  passengers  is_private  car_age  \n",
       "0               Gas         5.0           1       15  \n",
       "1  Premium Unleaded         7.0           0        6  \n",
       "2               Gas         5.0           1       17  "
      ]
     },
     "execution_count": 2,
     "metadata": {},
     "output_type": "execute_result"
    }
   ],
   "source": [
    "df = pd.read_csv('./Dataset/vehicles-cleaned-updated.csv')\n",
    "\n",
    "df.head(3)"
   ]
  },
  {
   "cell_type": "markdown",
   "metadata": {},
   "source": [
    "#### Checking Multicollinearity Using VIF"
   ]
  },
  {
   "cell_type": "code",
   "execution_count": 3,
   "metadata": {},
   "outputs": [
    {
     "data": {
      "text/html": [
       "<div>\n",
       "<style scoped>\n",
       "    .dataframe tbody tr th:only-of-type {\n",
       "        vertical-align: middle;\n",
       "    }\n",
       "\n",
       "    .dataframe tbody tr th {\n",
       "        vertical-align: top;\n",
       "    }\n",
       "\n",
       "    .dataframe thead th {\n",
       "        text-align: right;\n",
       "    }\n",
       "</style>\n",
       "<table border=\"1\" class=\"dataframe\">\n",
       "  <thead>\n",
       "    <tr style=\"text-align: right;\">\n",
       "      <th></th>\n",
       "      <th>VIF</th>\n",
       "      <th>Features</th>\n",
       "    </tr>\n",
       "  </thead>\n",
       "  <tbody>\n",
       "    <tr>\n",
       "      <th>0</th>\n",
       "      <td>4.078037</td>\n",
       "      <td>mileage</td>\n",
       "    </tr>\n",
       "    <tr>\n",
       "      <th>1</th>\n",
       "      <td>3.069511</td>\n",
       "      <td>passengers</td>\n",
       "    </tr>\n",
       "    <tr>\n",
       "      <th>2</th>\n",
       "      <td>3.467800</td>\n",
       "      <td>car_age</td>\n",
       "    </tr>\n",
       "    <tr>\n",
       "      <th>3</th>\n",
       "      <td>1.668307</td>\n",
       "      <td>is_private</td>\n",
       "    </tr>\n",
       "  </tbody>\n",
       "</table>\n",
       "</div>"
      ],
      "text/plain": [
       "        VIF    Features\n",
       "0  4.078037     mileage\n",
       "1  3.069511  passengers\n",
       "2  3.467800     car_age\n",
       "3  1.668307  is_private"
      ]
     },
     "execution_count": 3,
     "metadata": {},
     "output_type": "execute_result"
    }
   ],
   "source": [
    "variables = df[['mileage', 'passengers', 'car_age', 'is_private']]\n",
    "\n",
    "vif = pd.DataFrame()\n",
    "\n",
    "vif[\"VIF\"] = [variance_inflation_factor(variables.values, i) for i in range(variables.shape[1])]\n",
    "\n",
    "vif[\"Features\"] = variables.columns\n",
    "\n",
    "vif"
   ]
  },
  {
   "cell_type": "markdown",
   "metadata": {},
   "source": [
    "It looks good. We have VIFs < 5 and hence there is no Multicollinearity occurrence in our model."
   ]
  },
  {
   "cell_type": "markdown",
   "metadata": {},
   "source": [
    "#### Separating \"Numeric\" and \"Catogories\" types"
   ]
  },
  {
   "cell_type": "code",
   "execution_count": 4,
   "metadata": {},
   "outputs": [],
   "source": [
    "train_clean_numeric = df.select_dtypes(include = [np.number])\n",
    "\n",
    "train_clean_object = df.select_dtypes(include = 'object')"
   ]
  },
  {
   "cell_type": "markdown",
   "metadata": {},
   "source": [
    "#### One-hot-encode"
   ]
  },
  {
   "cell_type": "code",
   "execution_count": 5,
   "metadata": {},
   "outputs": [],
   "source": [
    "feature_def = gen_features(columns = train_clean_object.columns.tolist(), classes=[LabelBinarizer])\n",
    "\n",
    "mapper5 = DataFrameMapper(feature_def,df_out=True)\n",
    "\n",
    "object_df = mapper5.fit_transform(train_clean_object)"
   ]
  },
  {
   "cell_type": "markdown",
   "metadata": {},
   "source": [
    "#### New dataframe for pre-processing"
   ]
  },
  {
   "cell_type": "code",
   "execution_count": 6,
   "metadata": {},
   "outputs": [
    {
     "data": {
      "text/html": [
       "<div>\n",
       "<style scoped>\n",
       "    .dataframe tbody tr th:only-of-type {\n",
       "        vertical-align: middle;\n",
       "    }\n",
       "\n",
       "    .dataframe tbody tr th {\n",
       "        vertical-align: top;\n",
       "    }\n",
       "\n",
       "    .dataframe thead th {\n",
       "        text-align: right;\n",
       "    }\n",
       "</style>\n",
       "<table border=\"1\" class=\"dataframe\">\n",
       "  <thead>\n",
       "    <tr style=\"text-align: right;\">\n",
       "      <th></th>\n",
       "      <th>mileage</th>\n",
       "      <th>price</th>\n",
       "      <th>passengers</th>\n",
       "      <th>is_private</th>\n",
       "      <th>car_age</th>\n",
       "      <th>make_AC</th>\n",
       "      <th>make_ACURA</th>\n",
       "      <th>make_ALFA ROMEO</th>\n",
       "      <th>make_AM GENERAL</th>\n",
       "      <th>make_AMERICAN MOTORS (AMC)</th>\n",
       "      <th>...</th>\n",
       "      <th>transmission_CVT</th>\n",
       "      <th>transmission_Manual</th>\n",
       "      <th>transmission_Sequential</th>\n",
       "      <th>fuel_type_Diesel</th>\n",
       "      <th>fuel_type_E85- Gas(Flex Fuel)</th>\n",
       "      <th>fuel_type_Electric</th>\n",
       "      <th>fuel_type_Gas</th>\n",
       "      <th>fuel_type_Gas Hybrid</th>\n",
       "      <th>fuel_type_Premium Unleaded</th>\n",
       "      <th>fuel_type_Regular Unleaded</th>\n",
       "    </tr>\n",
       "  </thead>\n",
       "  <tbody>\n",
       "    <tr>\n",
       "      <th>0</th>\n",
       "      <td>166014.0</td>\n",
       "      <td>8.006368</td>\n",
       "      <td>5.0</td>\n",
       "      <td>1</td>\n",
       "      <td>15</td>\n",
       "      <td>0</td>\n",
       "      <td>0</td>\n",
       "      <td>0</td>\n",
       "      <td>0</td>\n",
       "      <td>0</td>\n",
       "      <td>...</td>\n",
       "      <td>0</td>\n",
       "      <td>0</td>\n",
       "      <td>0</td>\n",
       "      <td>0</td>\n",
       "      <td>0</td>\n",
       "      <td>0</td>\n",
       "      <td>1</td>\n",
       "      <td>0</td>\n",
       "      <td>0</td>\n",
       "      <td>0</td>\n",
       "    </tr>\n",
       "    <tr>\n",
       "      <th>1</th>\n",
       "      <td>97902.0</td>\n",
       "      <td>10.126191</td>\n",
       "      <td>7.0</td>\n",
       "      <td>0</td>\n",
       "      <td>6</td>\n",
       "      <td>0</td>\n",
       "      <td>1</td>\n",
       "      <td>0</td>\n",
       "      <td>0</td>\n",
       "      <td>0</td>\n",
       "      <td>...</td>\n",
       "      <td>0</td>\n",
       "      <td>0</td>\n",
       "      <td>0</td>\n",
       "      <td>0</td>\n",
       "      <td>0</td>\n",
       "      <td>0</td>\n",
       "      <td>0</td>\n",
       "      <td>0</td>\n",
       "      <td>1</td>\n",
       "      <td>0</td>\n",
       "    </tr>\n",
       "    <tr>\n",
       "      <th>2</th>\n",
       "      <td>108000.0</td>\n",
       "      <td>8.764053</td>\n",
       "      <td>5.0</td>\n",
       "      <td>1</td>\n",
       "      <td>17</td>\n",
       "      <td>0</td>\n",
       "      <td>0</td>\n",
       "      <td>0</td>\n",
       "      <td>0</td>\n",
       "      <td>0</td>\n",
       "      <td>...</td>\n",
       "      <td>0</td>\n",
       "      <td>0</td>\n",
       "      <td>0</td>\n",
       "      <td>0</td>\n",
       "      <td>0</td>\n",
       "      <td>0</td>\n",
       "      <td>1</td>\n",
       "      <td>0</td>\n",
       "      <td>0</td>\n",
       "      <td>0</td>\n",
       "    </tr>\n",
       "    <tr>\n",
       "      <th>3</th>\n",
       "      <td>186750.0</td>\n",
       "      <td>10.428837</td>\n",
       "      <td>5.0</td>\n",
       "      <td>0</td>\n",
       "      <td>6</td>\n",
       "      <td>0</td>\n",
       "      <td>0</td>\n",
       "      <td>0</td>\n",
       "      <td>0</td>\n",
       "      <td>0</td>\n",
       "      <td>...</td>\n",
       "      <td>0</td>\n",
       "      <td>0</td>\n",
       "      <td>0</td>\n",
       "      <td>0</td>\n",
       "      <td>0</td>\n",
       "      <td>0</td>\n",
       "      <td>1</td>\n",
       "      <td>0</td>\n",
       "      <td>0</td>\n",
       "      <td>0</td>\n",
       "    </tr>\n",
       "  </tbody>\n",
       "</table>\n",
       "<p>4 rows × 120 columns</p>\n",
       "</div>"
      ],
      "text/plain": [
       "    mileage      price  passengers  is_private  car_age  make_AC  make_ACURA  \\\n",
       "0  166014.0   8.006368         5.0           1       15        0           0   \n",
       "1   97902.0  10.126191         7.0           0        6        0           1   \n",
       "2  108000.0   8.764053         5.0           1       17        0           0   \n",
       "3  186750.0  10.428837         5.0           0        6        0           0   \n",
       "\n",
       "   make_ALFA ROMEO  make_AM GENERAL  make_AMERICAN MOTORS (AMC)  ...  \\\n",
       "0                0                0                           0  ...   \n",
       "1                0                0                           0  ...   \n",
       "2                0                0                           0  ...   \n",
       "3                0                0                           0  ...   \n",
       "\n",
       "   transmission_CVT  transmission_Manual  transmission_Sequential  \\\n",
       "0                 0                    0                        0   \n",
       "1                 0                    0                        0   \n",
       "2                 0                    0                        0   \n",
       "3                 0                    0                        0   \n",
       "\n",
       "   fuel_type_Diesel  fuel_type_E85- Gas(Flex Fuel)  fuel_type_Electric  \\\n",
       "0                 0                              0                   0   \n",
       "1                 0                              0                   0   \n",
       "2                 0                              0                   0   \n",
       "3                 0                              0                   0   \n",
       "\n",
       "   fuel_type_Gas  fuel_type_Gas Hybrid  fuel_type_Premium Unleaded  \\\n",
       "0              1                     0                           0   \n",
       "1              0                     0                           1   \n",
       "2              1                     0                           0   \n",
       "3              1                     0                           0   \n",
       "\n",
       "   fuel_type_Regular Unleaded  \n",
       "0                           0  \n",
       "1                           0  \n",
       "2                           0  \n",
       "3                           0  \n",
       "\n",
       "[4 rows x 120 columns]"
      ]
     },
     "execution_count": 6,
     "metadata": {},
     "output_type": "execute_result"
    }
   ],
   "source": [
    "car = pd.concat([train_clean_numeric, object_df], axis = 1)\n",
    "\n",
    "car.head(4)"
   ]
  },
  {
   "cell_type": "markdown",
   "metadata": {},
   "source": [
    "#### Declare the X and the y"
   ]
  },
  {
   "cell_type": "code",
   "execution_count": 7,
   "metadata": {},
   "outputs": [],
   "source": [
    "y = car['price']\n",
    "\n",
    "X = car.drop(['price'], axis = 1).values"
   ]
  },
  {
   "cell_type": "markdown",
   "metadata": {},
   "source": [
    "#### Scale the data"
   ]
  },
  {
   "cell_type": "code",
   "execution_count": 8,
   "metadata": {},
   "outputs": [],
   "source": [
    "# Create a scaler object\n",
    "\n",
    "scaler = StandardScaler()\n",
    "\n",
    "scaler.fit(X)\n",
    "\n",
    "X_scaled = scaler.transform(X)"
   ]
  },
  {
   "cell_type": "markdown",
   "metadata": {},
   "source": [
    "#### Train Test Split"
   ]
  },
  {
   "cell_type": "code",
   "execution_count": 9,
   "metadata": {},
   "outputs": [],
   "source": [
    "# Split the variables with an 80-20 split and some random state. In order to have the same split as mine, use random_state = 365\n",
    "\n",
    "X_train, X_test, y_train, y_test = train_test_split(X_scaled, y, test_size=0.2, random_state = 365)"
   ]
  },
  {
   "cell_type": "markdown",
   "metadata": {},
   "source": [
    "# Modeling"
   ]
  },
  {
   "cell_type": "markdown",
   "metadata": {},
   "source": [
    "## Linear regression model"
   ]
  },
  {
   "cell_type": "code",
   "execution_count": 10,
   "metadata": {},
   "outputs": [
    {
     "data": {
      "text/plain": [
       "0.776482489118633"
      ]
     },
     "execution_count": 10,
     "metadata": {},
     "output_type": "execute_result"
    }
   ],
   "source": [
    "ln = LinearRegression()\n",
    "\n",
    "ln.fit(X_train, y_train)\n",
    "\n",
    "ln.score(X_train, y_train)"
   ]
  },
  {
   "cell_type": "markdown",
   "metadata": {},
   "source": [
    "#### Predicting on the test set"
   ]
  },
  {
   "cell_type": "code",
   "execution_count": 11,
   "metadata": {},
   "outputs": [
    {
     "data": {
      "text/plain": [
       "-2.0161046117277562e+25"
      ]
     },
     "execution_count": 11,
     "metadata": {},
     "output_type": "execute_result"
    }
   ],
   "source": [
    "predictions_ln = ln.predict(X_test)\n",
    "\n",
    "R2_score_ln = metrics.r2_score(y_test, predictions_ln)\n",
    "\n",
    "R2_score_ln"
   ]
  },
  {
   "cell_type": "code",
   "execution_count": 12,
   "metadata": {},
   "outputs": [
    {
     "data": {
      "image/png": "[encoded data removed]",
      "text/plain": [
       "<Figure size 576x432 with 1 Axes>"
      ]
     },
     "metadata": {
      "needs_background": "light"
     },
     "output_type": "display_data"
    }
   ],
   "source": [
    "actual_values = y_test\n",
    "\n",
    "plt.figure(figsize=(8,6))\n",
    "\n",
    "plt.scatter(predictions_ln, actual_values, alpha= 0.75, color = 'b')\n",
    "\n",
    "plt.xlabel('Predicted price')\n",
    "\n",
    "plt.ylabel('Actual price')\n",
    "\n",
    "plt.title('Linear Regression Model')\n",
    "\n",
    "plt.show()"
   ]
  },
  {
   "cell_type": "markdown",
   "metadata": {},
   "source": [
    "## Lasso Regression"
   ]
  },
  {
   "cell_type": "code",
   "execution_count": 13,
   "metadata": {},
   "outputs": [
    {
     "name": "stdout",
     "output_type": "stream",
     "text": [
      "0.0005443210022650681\n"
     ]
    }
   ],
   "source": [
    "optimal_lasso = LassoCV(n_alphas=500, cv=10, verbose=0)\n",
    "\n",
    "optimal_lasso.fit(X_train, y_train)\n",
    "\n",
    "print(optimal_lasso.alpha_)"
   ]
  },
  {
   "cell_type": "code",
   "execution_count": 14,
   "metadata": {},
   "outputs": [
    {
     "name": "stdout",
     "output_type": "stream",
     "text": [
      "[0.76596213 0.78240189 0.76355534 0.77920871 0.76607388 0.78279202\n",
      " 0.77580078 0.78166336 0.76710633 0.77594822]\n"
     ]
    }
   ],
   "source": [
    "lasso = Lasso(alpha = optimal_lasso.alpha_)\n",
    "\n",
    "lasso_scores = cross_val_score(lasso, X_train, y_train, cv=10)\n",
    "\n",
    "lasso.fit(X_train, y_train)\n",
    "\n",
    "print(lasso_scores)"
   ]
  },
  {
   "cell_type": "code",
   "execution_count": 15,
   "metadata": {},
   "outputs": [
    {
     "name": "stdout",
     "output_type": "stream",
     "text": [
      "0.7740512666400547\n"
     ]
    }
   ],
   "source": [
    "print(np.mean(lasso_scores))"
   ]
  },
  {
   "cell_type": "markdown",
   "metadata": {},
   "source": [
    "#### Predicting on the test set"
   ]
  },
  {
   "cell_type": "code",
   "execution_count": 16,
   "metadata": {},
   "outputs": [
    {
     "data": {
      "text/plain": [
       "0.767723417638202"
      ]
     },
     "execution_count": 16,
     "metadata": {},
     "output_type": "execute_result"
    }
   ],
   "source": [
    "predictions_lasso = lasso.predict(X_test)\n",
    "\n",
    "R2_score_lasso = metrics.r2_score(y_test, predictions_lasso)\n",
    "\n",
    "R2_score_lasso"
   ]
  },
  {
   "cell_type": "code",
   "execution_count": 17,
   "metadata": {},
   "outputs": [
    {
     "data": {
      "image/png": "[encoded data removed]",
      "text/plain": [
       "<Figure size 576x432 with 1 Axes>"
      ]
     },
     "metadata": {
      "needs_background": "light"
     },
     "output_type": "display_data"
    }
   ],
   "source": [
    "actual_values = y_test\n",
    "\n",
    "plt.figure(figsize=(8,6))\n",
    "\n",
    "plt.scatter(predictions_lasso, actual_values, alpha= 0.75, color = 'r')\n",
    "\n",
    "plt.xlabel('Predicted price')\n",
    "\n",
    "plt.ylabel('Actual price')\n",
    "\n",
    "plt.title('Lasso Regression')\n",
    "\n",
    "plt.show()"
   ]
  },
  {
   "cell_type": "markdown",
   "metadata": {},
   "source": [
    "## Ridge Regression"
   ]
  },
  {
   "cell_type": "code",
   "execution_count": 18,
   "metadata": {},
   "outputs": [
    {
     "name": "stdout",
     "output_type": "stream",
     "text": [
      "204.90746898158483\n"
     ]
    }
   ],
   "source": [
    "ridge_alphas = np.logspace(0, 5, 200)\n",
    "\n",
    "optimal_ridge = RidgeCV(alphas=ridge_alphas, cv=10)\n",
    "\n",
    "optimal_ridge.fit(X_train, y_train)\n",
    "\n",
    "print(optimal_ridge.alpha_)"
   ]
  },
  {
   "cell_type": "code",
   "execution_count": 19,
   "metadata": {},
   "outputs": [
    {
     "name": "stdout",
     "output_type": "stream",
     "text": [
      "[0.76581477 0.78220654 0.76353078 0.77930178 0.76581282 0.78295938\n",
      " 0.77575937 0.78164423 0.76728305 0.77585445]\n"
     ]
    }
   ],
   "source": [
    "ridge = Ridge(alpha=optimal_ridge.alpha_)\n",
    "\n",
    "ridge_scores = cross_val_score(ridge, X_train, y_train, cv=10)\n",
    "\n",
    "ridge.fit(X_train, y_train)\n",
    "\n",
    "print(ridge_scores)"
   ]
  },
  {
   "cell_type": "code",
   "execution_count": 20,
   "metadata": {},
   "outputs": [
    {
     "name": "stdout",
     "output_type": "stream",
     "text": [
      "0.7740167162703658\n"
     ]
    }
   ],
   "source": [
    "print(np.mean(ridge_scores))"
   ]
  },
  {
   "cell_type": "markdown",
   "metadata": {},
   "source": [
    "#### Predicting on the test set"
   ]
  },
  {
   "cell_type": "code",
   "execution_count": 21,
   "metadata": {},
   "outputs": [
    {
     "data": {
      "text/plain": [
       "0.7677502641029107"
      ]
     },
     "execution_count": 21,
     "metadata": {},
     "output_type": "execute_result"
    }
   ],
   "source": [
    "predictions_ridge = ridge.predict(X_test)\n",
    "\n",
    "R2_score_ridge = metrics.r2_score(y_test, predictions_ridge)\n",
    "\n",
    "R2_score_ridge"
   ]
  },
  {
   "cell_type": "code",
   "execution_count": 22,
   "metadata": {},
   "outputs": [
    {
     "data": {
      "image/png": "[encoded data removed]",
      "text/plain": [
       "<Figure size 576x432 with 1 Axes>"
      ]
     },
     "metadata": {
      "needs_background": "light"
     },
     "output_type": "display_data"
    }
   ],
   "source": [
    "actual_values = y_test\n",
    "\n",
    "plt.figure(figsize=(8,6))\n",
    "\n",
    "plt.scatter(predictions_ridge, actual_values, alpha= 0.75, color = 'b')\n",
    "\n",
    "plt.xlabel('Predicted price')\n",
    "\n",
    "plt.ylabel('Actual price')\n",
    "\n",
    "plt.title('Ridge Regression')\n",
    "\n",
    "plt.show()"
   ]
  },
  {
   "cell_type": "markdown",
   "metadata": {},
   "source": [
    "## ElasticNet Regression"
   ]
  },
  {
   "cell_type": "code",
   "execution_count": 23,
   "metadata": {},
   "outputs": [
    {
     "name": "stdout",
     "output_type": "stream",
     "text": [
      "0.0005443210022650681\n"
     ]
    }
   ],
   "source": [
    "l1_ratios = np.linspace(0.01, 1.0, 25)\n",
    "\n",
    "optimal_enet = ElasticNetCV(l1_ratio=l1_ratios, n_alphas=100, cv=10, verbose=0)\n",
    "\n",
    "optimal_enet.fit(X_train, y_train)\n",
    "\n",
    "print(optimal_enet.alpha_)"
   ]
  },
  {
   "cell_type": "code",
   "execution_count": 24,
   "metadata": {},
   "outputs": [
    {
     "name": "stdout",
     "output_type": "stream",
     "text": [
      "1.0\n"
     ]
    }
   ],
   "source": [
    "print(optimal_enet.l1_ratio_)"
   ]
  },
  {
   "cell_type": "code",
   "execution_count": 25,
   "metadata": {},
   "outputs": [
    {
     "name": "stdout",
     "output_type": "stream",
     "text": [
      "[0.76596213 0.78240189 0.76355534 0.77920871 0.76607388 0.78279202\n",
      " 0.77580078 0.78166336 0.76710633 0.77594822]\n"
     ]
    }
   ],
   "source": [
    "enet = ElasticNet(alpha=optimal_enet.alpha_, l1_ratio=optimal_enet.l1_ratio_)\n",
    "\n",
    "enet_scores = cross_val_score(enet, X_train, y_train, cv=10)\n",
    "\n",
    "enet.fit(X_train, y_train)\n",
    "\n",
    "print(enet_scores)"
   ]
  },
  {
   "cell_type": "code",
   "execution_count": 26,
   "metadata": {},
   "outputs": [
    {
     "name": "stdout",
     "output_type": "stream",
     "text": [
      "0.7740512666400547\n"
     ]
    }
   ],
   "source": [
    "print(np.mean(enet_scores))"
   ]
  },
  {
   "cell_type": "markdown",
   "metadata": {},
   "source": [
    "#### Predicting on the test set"
   ]
  },
  {
   "cell_type": "code",
   "execution_count": 27,
   "metadata": {},
   "outputs": [
    {
     "data": {
      "text/plain": [
       "0.767723417638202"
      ]
     },
     "execution_count": 27,
     "metadata": {},
     "output_type": "execute_result"
    }
   ],
   "source": [
    "predictions_enet = enet.predict(X_test)\n",
    "\n",
    "R2_score_enet = metrics.r2_score(y_test, predictions_enet)\n",
    "\n",
    "R2_score_enet"
   ]
  },
  {
   "cell_type": "code",
   "execution_count": 28,
   "metadata": {},
   "outputs": [
    {
     "data": {
      "image/png": "[encoded data removed]",
      "text/plain": [
       "<Figure size 576x432 with 1 Axes>"
      ]
     },
     "metadata": {
      "needs_background": "light"
     },
     "output_type": "display_data"
    }
   ],
   "source": [
    "actual_values = y_test\n",
    "\n",
    "plt.figure(figsize=(8,6))\n",
    "\n",
    "plt.scatter(predictions_enet, actual_values, alpha= 0.75, color = 'g')\n",
    "\n",
    "plt.xlabel('Predicted price')\n",
    "\n",
    "plt.ylabel('Actual price')\n",
    "\n",
    "plt.title('ElasticNet Regression')\n",
    "\n",
    "plt.show()"
   ]
  },
  {
   "cell_type": "markdown",
   "metadata": {},
   "source": [
    "### Choosing the right model"
   ]
  },
  {
   "cell_type": "code",
   "execution_count": 30,
   "metadata": {},
   "outputs": [
    {
     "data": {
      "text/html": [
       "<div>\n",
       "<style scoped>\n",
       "    .dataframe tbody tr th:only-of-type {\n",
       "        vertical-align: middle;\n",
       "    }\n",
       "\n",
       "    .dataframe tbody tr th {\n",
       "        vertical-align: top;\n",
       "    }\n",
       "\n",
       "    .dataframe thead th {\n",
       "        text-align: right;\n",
       "    }\n",
       "</style>\n",
       "<table border=\"1\" class=\"dataframe\">\n",
       "  <thead>\n",
       "    <tr style=\"text-align: right;\">\n",
       "      <th></th>\n",
       "      <th>0</th>\n",
       "    </tr>\n",
       "  </thead>\n",
       "  <tbody>\n",
       "    <tr>\n",
       "      <th>Ridge Regression</th>\n",
       "      <td>7.677503e-01</td>\n",
       "    </tr>\n",
       "    <tr>\n",
       "      <th>Lasso Regression</th>\n",
       "      <td>7.677234e-01</td>\n",
       "    </tr>\n",
       "    <tr>\n",
       "      <th>ElasticNet Regression</th>\n",
       "      <td>7.677234e-01</td>\n",
       "    </tr>\n",
       "    <tr>\n",
       "      <th>Linear Regression</th>\n",
       "      <td>-2.016105e+25</td>\n",
       "    </tr>\n",
       "  </tbody>\n",
       "</table>\n",
       "</div>"
      ],
      "text/plain": [
       "                                  0\n",
       "Ridge Regression       7.677503e-01\n",
       "Lasso Regression       7.677234e-01\n",
       "ElasticNet Regression  7.677234e-01\n",
       "Linear Regression     -2.016105e+25"
      ]
     },
     "execution_count": 30,
     "metadata": {},
     "output_type": "execute_result"
    }
   ],
   "source": [
    "R2 = pd.DataFrame({'Linear Regression': [R2_score_ln], 'Ridge Regression': [R2_score_ridge], \n",
    "                   'Lasso Regression': [R2_score_lasso], 'ElasticNet Regression': [R2_score_enet]})\n",
    "\n",
    "R2.T.sort_values(0, ascending = False)"
   ]
  }
 ],
 "metadata": {
  "kernelspec": {
   "display_name": "Python 3",
   "language": "python",
   "name": "python3"
  },
  "language_info": {
   "codemirror_mode": {
    "name": "ipython",
    "version": 3
   },
   "file_extension": ".py",
   "mimetype": "text/x-python",
   "name": "python",
   "nbconvert_exporter": "python",
   "pygments_lexer": "ipython3",
   "version": "3.7.6"
  }
 },
 "nbformat": 4,
 "nbformat_minor": 4
}
